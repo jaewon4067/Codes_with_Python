{
 "cells": [
  {
   "cell_type": "markdown",
   "metadata": {},
   "source": [
    "I'm going to make a second polynomial regression by using the same diabetes data from sklearn.\n"
   ]
  },
  {
   "cell_type": "code",
   "execution_count": 2,
   "metadata": {},
   "outputs": [],
   "source": [
    "from sklearn import datasets\n",
    "from sklearn.preprocessing import PolynomialFeatures\n",
    "\n",
    "from sklearn.model_selection import train_test_split\n",
    "from sklearn.linear_model import LinearRegression\n",
    "from sklearn.metrics import mean_squared_error\n",
    "\n",
    "import pandas as pd  \n",
    "\n",
    "diabetes_dataset = datasets.load_diabetes() "
   ]
  },
  {
   "cell_type": "code",
   "execution_count": 4,
   "metadata": {},
   "outputs": [],
   "source": [
    "# To replace the problem with polynomial regression, first define the term transformer. \n",
    "# I'm going to create a secondary regression problem, so we can pass 2 to the parameter.\n",
    "polynomial_transformer = PolynomialFeatures(2)"
   ]
  },
  {
   "cell_type": "code",
   "execution_count": 5,
   "metadata": {},
   "outputs": [],
   "source": [
    "# And then, make the data into a polynomial regression case.\n",
    "polynomial_features = polynomial_transformer.fit_transform(diabetes_dataset.data)"
   ]
  },
  {
   "cell_type": "code",
   "execution_count": 7,
   "metadata": {},
   "outputs": [],
   "source": [
    "#I will change the variable names to match the polynomial regression.\n",
    "features = polynomial_transformer.get_feature_names(diabetes_dataset.feature_names) "
   ]
  },
  {
   "cell_type": "code",
   "execution_count": 9,
   "metadata": {},
   "outputs": [
    {
     "data": {
      "text/html": [
       "<div>\n",
       "<style scoped>\n",
       "    .dataframe tbody tr th:only-of-type {\n",
       "        vertical-align: middle;\n",
       "    }\n",
       "\n",
       "    .dataframe tbody tr th {\n",
       "        vertical-align: top;\n",
       "    }\n",
       "\n",
       "    .dataframe thead th {\n",
       "        text-align: right;\n",
       "    }\n",
       "</style>\n",
       "<table border=\"1\" class=\"dataframe\">\n",
       "  <thead>\n",
       "    <tr style=\"text-align: right;\">\n",
       "      <th></th>\n",
       "      <th>1</th>\n",
       "      <th>age</th>\n",
       "      <th>sex</th>\n",
       "      <th>bmi</th>\n",
       "      <th>bp</th>\n",
       "      <th>s1</th>\n",
       "      <th>s2</th>\n",
       "      <th>s3</th>\n",
       "      <th>s4</th>\n",
       "      <th>s5</th>\n",
       "      <th>...</th>\n",
       "      <th>s3^2</th>\n",
       "      <th>s3 s4</th>\n",
       "      <th>s3 s5</th>\n",
       "      <th>s3 s6</th>\n",
       "      <th>s4^2</th>\n",
       "      <th>s4 s5</th>\n",
       "      <th>s4 s6</th>\n",
       "      <th>s5^2</th>\n",
       "      <th>s5 s6</th>\n",
       "      <th>s6^2</th>\n",
       "    </tr>\n",
       "  </thead>\n",
       "  <tbody>\n",
       "    <tr>\n",
       "      <th>0</th>\n",
       "      <td>1.0</td>\n",
       "      <td>0.038076</td>\n",
       "      <td>0.050680</td>\n",
       "      <td>0.061696</td>\n",
       "      <td>0.021872</td>\n",
       "      <td>-0.044223</td>\n",
       "      <td>-0.034821</td>\n",
       "      <td>-0.043401</td>\n",
       "      <td>-0.002592</td>\n",
       "      <td>0.019908</td>\n",
       "      <td>...</td>\n",
       "      <td>0.001884</td>\n",
       "      <td>0.000113</td>\n",
       "      <td>-0.000864</td>\n",
       "      <td>0.000766</td>\n",
       "      <td>0.000007</td>\n",
       "      <td>-0.000052</td>\n",
       "      <td>0.000046</td>\n",
       "      <td>0.000396</td>\n",
       "      <td>-0.000351</td>\n",
       "      <td>0.000311</td>\n",
       "    </tr>\n",
       "    <tr>\n",
       "      <th>1</th>\n",
       "      <td>1.0</td>\n",
       "      <td>-0.001882</td>\n",
       "      <td>-0.044642</td>\n",
       "      <td>-0.051474</td>\n",
       "      <td>-0.026328</td>\n",
       "      <td>-0.008449</td>\n",
       "      <td>-0.019163</td>\n",
       "      <td>0.074412</td>\n",
       "      <td>-0.039493</td>\n",
       "      <td>-0.068330</td>\n",
       "      <td>...</td>\n",
       "      <td>0.005537</td>\n",
       "      <td>-0.002939</td>\n",
       "      <td>-0.005085</td>\n",
       "      <td>-0.006861</td>\n",
       "      <td>0.001560</td>\n",
       "      <td>0.002699</td>\n",
       "      <td>0.003641</td>\n",
       "      <td>0.004669</td>\n",
       "      <td>0.006300</td>\n",
       "      <td>0.008502</td>\n",
       "    </tr>\n",
       "    <tr>\n",
       "      <th>2</th>\n",
       "      <td>1.0</td>\n",
       "      <td>0.085299</td>\n",
       "      <td>0.050680</td>\n",
       "      <td>0.044451</td>\n",
       "      <td>-0.005671</td>\n",
       "      <td>-0.045599</td>\n",
       "      <td>-0.034194</td>\n",
       "      <td>-0.032356</td>\n",
       "      <td>-0.002592</td>\n",
       "      <td>0.002864</td>\n",
       "      <td>...</td>\n",
       "      <td>0.001047</td>\n",
       "      <td>0.000084</td>\n",
       "      <td>-0.000093</td>\n",
       "      <td>0.000839</td>\n",
       "      <td>0.000007</td>\n",
       "      <td>-0.000007</td>\n",
       "      <td>0.000067</td>\n",
       "      <td>0.000008</td>\n",
       "      <td>-0.000074</td>\n",
       "      <td>0.000672</td>\n",
       "    </tr>\n",
       "    <tr>\n",
       "      <th>3</th>\n",
       "      <td>1.0</td>\n",
       "      <td>-0.089063</td>\n",
       "      <td>-0.044642</td>\n",
       "      <td>-0.011595</td>\n",
       "      <td>-0.036656</td>\n",
       "      <td>0.012191</td>\n",
       "      <td>0.024991</td>\n",
       "      <td>-0.036038</td>\n",
       "      <td>0.034309</td>\n",
       "      <td>0.022692</td>\n",
       "      <td>...</td>\n",
       "      <td>0.001299</td>\n",
       "      <td>-0.001236</td>\n",
       "      <td>-0.000818</td>\n",
       "      <td>0.000337</td>\n",
       "      <td>0.001177</td>\n",
       "      <td>0.000779</td>\n",
       "      <td>-0.000321</td>\n",
       "      <td>0.000515</td>\n",
       "      <td>-0.000212</td>\n",
       "      <td>0.000088</td>\n",
       "    </tr>\n",
       "    <tr>\n",
       "      <th>4</th>\n",
       "      <td>1.0</td>\n",
       "      <td>0.005383</td>\n",
       "      <td>-0.044642</td>\n",
       "      <td>-0.036385</td>\n",
       "      <td>0.021872</td>\n",
       "      <td>0.003935</td>\n",
       "      <td>0.015596</td>\n",
       "      <td>0.008142</td>\n",
       "      <td>-0.002592</td>\n",
       "      <td>-0.031991</td>\n",
       "      <td>...</td>\n",
       "      <td>0.000066</td>\n",
       "      <td>-0.000021</td>\n",
       "      <td>-0.000260</td>\n",
       "      <td>-0.000380</td>\n",
       "      <td>0.000007</td>\n",
       "      <td>0.000083</td>\n",
       "      <td>0.000121</td>\n",
       "      <td>0.001023</td>\n",
       "      <td>0.001492</td>\n",
       "      <td>0.002175</td>\n",
       "    </tr>\n",
       "  </tbody>\n",
       "</table>\n",
       "<p>5 rows × 66 columns</p>\n",
       "</div>"
      ],
      "text/plain": [
       "     1       age       sex       bmi        bp        s1        s2        s3  \\\n",
       "0  1.0  0.038076  0.050680  0.061696  0.021872 -0.044223 -0.034821 -0.043401   \n",
       "1  1.0 -0.001882 -0.044642 -0.051474 -0.026328 -0.008449 -0.019163  0.074412   \n",
       "2  1.0  0.085299  0.050680  0.044451 -0.005671 -0.045599 -0.034194 -0.032356   \n",
       "3  1.0 -0.089063 -0.044642 -0.011595 -0.036656  0.012191  0.024991 -0.036038   \n",
       "4  1.0  0.005383 -0.044642 -0.036385  0.021872  0.003935  0.015596  0.008142   \n",
       "\n",
       "         s4        s5  ...      s3^2     s3 s4     s3 s5     s3 s6      s4^2  \\\n",
       "0 -0.002592  0.019908  ...  0.001884  0.000113 -0.000864  0.000766  0.000007   \n",
       "1 -0.039493 -0.068330  ...  0.005537 -0.002939 -0.005085 -0.006861  0.001560   \n",
       "2 -0.002592  0.002864  ...  0.001047  0.000084 -0.000093  0.000839  0.000007   \n",
       "3  0.034309  0.022692  ...  0.001299 -0.001236 -0.000818  0.000337  0.001177   \n",
       "4 -0.002592 -0.031991  ...  0.000066 -0.000021 -0.000260 -0.000380  0.000007   \n",
       "\n",
       "      s4 s5     s4 s6      s5^2     s5 s6      s6^2  \n",
       "0 -0.000052  0.000046  0.000396 -0.000351  0.000311  \n",
       "1  0.002699  0.003641  0.004669  0.006300  0.008502  \n",
       "2 -0.000007  0.000067  0.000008 -0.000074  0.000672  \n",
       "3  0.000779 -0.000321  0.000515 -0.000212  0.000088  \n",
       "4  0.000083  0.000121  0.001023  0.001492  0.002175  \n",
       "\n",
       "[5 rows x 66 columns]"
      ]
     },
     "execution_count": 9,
     "metadata": {},
     "output_type": "execute_result"
    }
   ],
   "source": [
    "#Save the data into dataframe\n",
    "X = pd.DataFrame(polynomial_features, columns=features)\n",
    "#Test\n",
    "X.head()"
   ]
  },
  {
   "cell_type": "code",
   "execution_count": 11,
   "metadata": {},
   "outputs": [
    {
     "data": {
      "text/html": [
       "<div>\n",
       "<style scoped>\n",
       "    .dataframe tbody tr th:only-of-type {\n",
       "        vertical-align: middle;\n",
       "    }\n",
       "\n",
       "    .dataframe tbody tr th {\n",
       "        vertical-align: top;\n",
       "    }\n",
       "\n",
       "    .dataframe thead th {\n",
       "        text-align: right;\n",
       "    }\n",
       "</style>\n",
       "<table border=\"1\" class=\"dataframe\">\n",
       "  <thead>\n",
       "    <tr style=\"text-align: right;\">\n",
       "      <th></th>\n",
       "      <th>diabetes</th>\n",
       "    </tr>\n",
       "  </thead>\n",
       "  <tbody>\n",
       "    <tr>\n",
       "      <th>0</th>\n",
       "      <td>151.0</td>\n",
       "    </tr>\n",
       "    <tr>\n",
       "      <th>1</th>\n",
       "      <td>75.0</td>\n",
       "    </tr>\n",
       "    <tr>\n",
       "      <th>2</th>\n",
       "      <td>141.0</td>\n",
       "    </tr>\n",
       "    <tr>\n",
       "      <th>3</th>\n",
       "      <td>206.0</td>\n",
       "    </tr>\n",
       "    <tr>\n",
       "      <th>4</th>\n",
       "      <td>135.0</td>\n",
       "    </tr>\n",
       "    <tr>\n",
       "      <th>...</th>\n",
       "      <td>...</td>\n",
       "    </tr>\n",
       "    <tr>\n",
       "      <th>437</th>\n",
       "      <td>178.0</td>\n",
       "    </tr>\n",
       "    <tr>\n",
       "      <th>438</th>\n",
       "      <td>104.0</td>\n",
       "    </tr>\n",
       "    <tr>\n",
       "      <th>439</th>\n",
       "      <td>132.0</td>\n",
       "    </tr>\n",
       "    <tr>\n",
       "      <th>440</th>\n",
       "      <td>220.0</td>\n",
       "    </tr>\n",
       "    <tr>\n",
       "      <th>441</th>\n",
       "      <td>57.0</td>\n",
       "    </tr>\n",
       "  </tbody>\n",
       "</table>\n",
       "<p>442 rows × 1 columns</p>\n",
       "</div>"
      ],
      "text/plain": [
       "     diabetes\n",
       "0       151.0\n",
       "1        75.0\n",
       "2       141.0\n",
       "3       206.0\n",
       "4       135.0\n",
       "..        ...\n",
       "437     178.0\n",
       "438     104.0\n",
       "439     132.0\n",
       "440     220.0\n",
       "441      57.0\n",
       "\n",
       "[442 rows x 1 columns]"
      ]
     },
     "execution_count": 11,
     "metadata": {},
     "output_type": "execute_result"
    }
   ],
   "source": [
    "#Target variable\n",
    "y = pd.DataFrame(diabetes_dataset.target, columns=['diabetes'])\n",
    "y"
   ]
  },
  {
   "cell_type": "code",
   "execution_count": 12,
   "metadata": {},
   "outputs": [],
   "source": [
    "X_train, X_test, y_train, y_test = train_test_split(X, y, test_size = 0.2, random_state=5)"
   ]
  },
  {
   "cell_type": "code",
   "execution_count": 13,
   "metadata": {},
   "outputs": [],
   "source": [
    "linear_regression_model = LinearRegression()"
   ]
  },
  {
   "cell_type": "code",
   "execution_count": 14,
   "metadata": {},
   "outputs": [
    {
     "data": {
      "text/plain": [
       "LinearRegression()"
      ]
     },
     "execution_count": 14,
     "metadata": {},
     "output_type": "execute_result"
    }
   ],
   "source": [
    "linear_regression_model.fit(X_train, y_train)"
   ]
  },
  {
   "cell_type": "code",
   "execution_count": 15,
   "metadata": {},
   "outputs": [],
   "source": [
    "y_test_predict = linear_regression_model.predict(X_test)"
   ]
  },
  {
   "cell_type": "code",
   "execution_count": 16,
   "metadata": {},
   "outputs": [
    {
     "data": {
      "text/plain": [
       "57.87704902724885"
      ]
     },
     "execution_count": 16,
     "metadata": {},
     "output_type": "execute_result"
    }
   ],
   "source": [
    "mse = mean_squared_error(y_test, y_test_predict)\n",
    "\n",
    "mse ** 0.5"
   ]
  }
 ],
 "metadata": {
  "kernelspec": {
   "display_name": "Python 3",
   "language": "python",
   "name": "python3"
  },
  "language_info": {
   "codemirror_mode": {
    "name": "ipython",
    "version": 3
   },
   "file_extension": ".py",
   "mimetype": "text/x-python",
   "name": "python",
   "nbconvert_exporter": "python",
   "pygments_lexer": "ipython3",
   "version": "3.8.5"
  }
 },
 "nbformat": 4,
 "nbformat_minor": 4
}
