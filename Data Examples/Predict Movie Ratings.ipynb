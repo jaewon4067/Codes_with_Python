{
 "cells": [
  {
   "cell_type": "markdown",
   "metadata": {},
   "source": [
    "Given the rating data of movies, let's implement 'get_k_neighbors', a function that saves k neighbors similar to a particular user.\n",
    "I'm going to find user0's movie3. "
   ]
  },
  {
   "cell_type": "code",
   "execution_count": 23,
   "metadata": {},
   "outputs": [],
   "source": [
    "import pandas as pd\n",
    "import numpy as np\n",
    "from math import sqrt\n"
   ]
  },
  {
   "cell_type": "code",
   "execution_count": 24,
   "metadata": {},
   "outputs": [
    {
     "data": {
      "text/html": [
       "<div>\n",
       "<style scoped>\n",
       "    .dataframe tbody tr th:only-of-type {\n",
       "        vertical-align: middle;\n",
       "    }\n",
       "\n",
       "    .dataframe tbody tr th {\n",
       "        vertical-align: top;\n",
       "    }\n",
       "\n",
       "    .dataframe thead th {\n",
       "        text-align: right;\n",
       "    }\n",
       "</style>\n",
       "<table border=\"1\" class=\"dataframe\">\n",
       "  <thead>\n",
       "    <tr style=\"text-align: right;\">\n",
       "      <th></th>\n",
       "      <th>user_id</th>\n",
       "      <th>0</th>\n",
       "      <th>1</th>\n",
       "      <th>2</th>\n",
       "      <th>3</th>\n",
       "      <th>4</th>\n",
       "      <th>5</th>\n",
       "      <th>6</th>\n",
       "      <th>7</th>\n",
       "      <th>8</th>\n",
       "      <th>...</th>\n",
       "      <th>10</th>\n",
       "      <th>11</th>\n",
       "      <th>12</th>\n",
       "      <th>13</th>\n",
       "      <th>14</th>\n",
       "      <th>15</th>\n",
       "      <th>16</th>\n",
       "      <th>17</th>\n",
       "      <th>18</th>\n",
       "      <th>19</th>\n",
       "    </tr>\n",
       "  </thead>\n",
       "  <tbody>\n",
       "    <tr>\n",
       "      <th>0</th>\n",
       "      <td>0</td>\n",
       "      <td>2.0</td>\n",
       "      <td>3.0</td>\n",
       "      <td>4.0</td>\n",
       "      <td>NaN</td>\n",
       "      <td>2.0</td>\n",
       "      <td>3.0</td>\n",
       "      <td>NaN</td>\n",
       "      <td>NaN</td>\n",
       "      <td>NaN</td>\n",
       "      <td>...</td>\n",
       "      <td>4.0</td>\n",
       "      <td>NaN</td>\n",
       "      <td>NaN</td>\n",
       "      <td>1.0</td>\n",
       "      <td>NaN</td>\n",
       "      <td>NaN</td>\n",
       "      <td>2.0</td>\n",
       "      <td>5.0</td>\n",
       "      <td>2.0</td>\n",
       "      <td>NaN</td>\n",
       "    </tr>\n",
       "    <tr>\n",
       "      <th>1</th>\n",
       "      <td>1</td>\n",
       "      <td>NaN</td>\n",
       "      <td>NaN</td>\n",
       "      <td>NaN</td>\n",
       "      <td>4.0</td>\n",
       "      <td>NaN</td>\n",
       "      <td>5.0</td>\n",
       "      <td>NaN</td>\n",
       "      <td>NaN</td>\n",
       "      <td>2.0</td>\n",
       "      <td>...</td>\n",
       "      <td>4.0</td>\n",
       "      <td>NaN</td>\n",
       "      <td>1.0</td>\n",
       "      <td>NaN</td>\n",
       "      <td>NaN</td>\n",
       "      <td>NaN</td>\n",
       "      <td>NaN</td>\n",
       "      <td>5.0</td>\n",
       "      <td>NaN</td>\n",
       "      <td>NaN</td>\n",
       "    </tr>\n",
       "    <tr>\n",
       "      <th>2</th>\n",
       "      <td>2</td>\n",
       "      <td>2.0</td>\n",
       "      <td>NaN</td>\n",
       "      <td>1.0</td>\n",
       "      <td>NaN</td>\n",
       "      <td>NaN</td>\n",
       "      <td>5.0</td>\n",
       "      <td>5.0</td>\n",
       "      <td>NaN</td>\n",
       "      <td>NaN</td>\n",
       "      <td>...</td>\n",
       "      <td>NaN</td>\n",
       "      <td>5.0</td>\n",
       "      <td>3.0</td>\n",
       "      <td>3.0</td>\n",
       "      <td>NaN</td>\n",
       "      <td>3.0</td>\n",
       "      <td>3.0</td>\n",
       "      <td>4.0</td>\n",
       "      <td>NaN</td>\n",
       "      <td>NaN</td>\n",
       "    </tr>\n",
       "    <tr>\n",
       "      <th>3</th>\n",
       "      <td>3</td>\n",
       "      <td>NaN</td>\n",
       "      <td>3.0</td>\n",
       "      <td>5.0</td>\n",
       "      <td>NaN</td>\n",
       "      <td>NaN</td>\n",
       "      <td>NaN</td>\n",
       "      <td>4.0</td>\n",
       "      <td>3.0</td>\n",
       "      <td>NaN</td>\n",
       "      <td>...</td>\n",
       "      <td>3.0</td>\n",
       "      <td>NaN</td>\n",
       "      <td>4.0</td>\n",
       "      <td>NaN</td>\n",
       "      <td>NaN</td>\n",
       "      <td>2.0</td>\n",
       "      <td>NaN</td>\n",
       "      <td>NaN</td>\n",
       "      <td>NaN</td>\n",
       "      <td>2.0</td>\n",
       "    </tr>\n",
       "    <tr>\n",
       "      <th>4</th>\n",
       "      <td>4</td>\n",
       "      <td>NaN</td>\n",
       "      <td>NaN</td>\n",
       "      <td>NaN</td>\n",
       "      <td>5.0</td>\n",
       "      <td>NaN</td>\n",
       "      <td>NaN</td>\n",
       "      <td>2.0</td>\n",
       "      <td>2.0</td>\n",
       "      <td>2.0</td>\n",
       "      <td>...</td>\n",
       "      <td>3.0</td>\n",
       "      <td>4.0</td>\n",
       "      <td>2.0</td>\n",
       "      <td>5.0</td>\n",
       "      <td>4.0</td>\n",
       "      <td>NaN</td>\n",
       "      <td>NaN</td>\n",
       "      <td>NaN</td>\n",
       "      <td>4.0</td>\n",
       "      <td>2.0</td>\n",
       "    </tr>\n",
       "  </tbody>\n",
       "</table>\n",
       "<p>5 rows × 21 columns</p>\n",
       "</div>"
      ],
      "text/plain": [
       "   user_id    0    1    2    3    4    5    6    7    8  ...   10   11   12  \\\n",
       "0        0  2.0  3.0  4.0  NaN  2.0  3.0  NaN  NaN  NaN  ...  4.0  NaN  NaN   \n",
       "1        1  NaN  NaN  NaN  4.0  NaN  5.0  NaN  NaN  2.0  ...  4.0  NaN  1.0   \n",
       "2        2  2.0  NaN  1.0  NaN  NaN  5.0  5.0  NaN  NaN  ...  NaN  5.0  3.0   \n",
       "3        3  NaN  3.0  5.0  NaN  NaN  NaN  4.0  3.0  NaN  ...  3.0  NaN  4.0   \n",
       "4        4  NaN  NaN  NaN  5.0  NaN  NaN  2.0  2.0  2.0  ...  3.0  4.0  2.0   \n",
       "\n",
       "    13   14   15   16   17   18   19  \n",
       "0  1.0  NaN  NaN  2.0  5.0  2.0  NaN  \n",
       "1  NaN  NaN  NaN  NaN  5.0  NaN  NaN  \n",
       "2  3.0  NaN  3.0  3.0  4.0  NaN  NaN  \n",
       "3  NaN  NaN  2.0  NaN  NaN  NaN  2.0  \n",
       "4  5.0  4.0  NaN  NaN  NaN  4.0  2.0  \n",
       "\n",
       "[5 rows x 21 columns]"
      ]
     },
     "execution_count": 24,
     "metadata": {},
     "output_type": "execute_result"
    }
   ],
   "source": [
    "RATING_DATA_PATH = 'ratings.csv'  # Define rate data root.\n",
    "df = pd.read_csv('ratings.csv')\n",
    "np.set_printoptions(precision=2)  # Output up to second decimal place.\n",
    "\n",
    "df.head()"
   ]
  },
  {
   "cell_type": "code",
   "execution_count": 25,
   "metadata": {},
   "outputs": [],
   "source": [
    "# Function that calculates Euclidean distance.\n",
    "def distance(user_1, user_2):\n",
    "    return sqrt(np.sum((user_1 - user_2)**2))"
   ]
  },
  {
   "cell_type": "code",
   "execution_count": 26,
   "metadata": {},
   "outputs": [],
   "source": [
    "# Function that excludes users who haven't rate 'movie_id'th movie.\n",
    "def filter_users_without_movie(rating_data, movie_id):\n",
    "    return rating_data[~np.isnan(rating_data[:,movie_id])]"
   ]
  },
  {
   "cell_type": "code",
   "execution_count": 27,
   "metadata": {},
   "outputs": [],
   "source": [
    "# Function that fills empty values of the rating data with the average value of each user.\n",
    "def fill_nan_with_user_mean(rating_data):\n",
    "    filled_data = np.copy(rating_data)  # Copy rating data not to damage it.\n",
    "    row_mean = np.nanmean(filled_data, axis=0)  # Calculate the user average ratings.\n",
    "    \n",
    "    inds = np.where(np.isnan(filled_data))  # Find the empty index.\n",
    "    filled_data[inds] = np.take(row_mean, inds[1])  # Fill in the empty index with the user average rate. \n",
    "    \n",
    "    return filled_data"
   ]
  },
  {
   "cell_type": "code",
   "execution_count": 28,
   "metadata": {},
   "outputs": [],
   "source": [
    "# Function that finds the user's neighbors corresponding to user_id.\n",
    "\n",
    "def get_k_neighbors(user_id, rating_data, k):\n",
    "    distance_data = np.copy(rating_data)  # Copy rating data not to damage it.\n",
    "    # Append a row to add 'distance_Data.\n",
    "    distance_data = np.append(distance_data, np.zeros((distance_data.shape[0], 1)), axis=1)\n",
    "    \n",
    "    for i in range(len(distance_data)):\n",
    "        row = distance_data[i]\n",
    "        \n",
    "        if i == user_id:  # Set as inf if they are the same users.\n",
    "            row[-1] = np.inf\n",
    "        \n",
    "        else:  # Add distance data if not.\n",
    "            row[-1] = distance(distance_data[user_id][:-1], row[:-1])\n",
    "\n",
    "    \n",
    "    # Sorts data by distance column\n",
    "    distance_data = distance_data[np.argsort(distance_data[:, -1])]\n",
    "    \n",
    "    # Exclude the distance row + retrun k rows.\n",
    "    return distance_data[:k, :-1]"
   ]
  },
  {
   "cell_type": "code",
   "execution_count": 29,
   "metadata": {},
   "outputs": [
    {
     "data": {
      "text/plain": [
       "array([[ 2.,  3.,  4., nan,  2.,  3., nan, nan, nan,  4.,  4., nan, nan,\n",
       "         1., nan, nan,  2.,  5.,  2., nan],\n",
       "       [nan, nan, nan,  4., nan,  5., nan, nan,  2., nan,  4., nan,  1.,\n",
       "        nan, nan, nan, nan,  5., nan, nan],\n",
       "       [ 2., nan,  1., nan, nan,  5.,  5., nan, nan, nan, nan,  5.,  3.,\n",
       "         3., nan,  3.,  3.,  4., nan, nan],\n",
       "       [nan,  3.,  5., nan, nan, nan,  4.,  3., nan,  5.,  3., nan,  4.,\n",
       "        nan, nan,  2., nan, nan, nan,  2.],\n",
       "       [nan, nan, nan,  5., nan, nan,  2.,  2.,  2., nan,  3.,  4.,  2.,\n",
       "         5.,  4., nan, nan, nan,  4.,  2.],\n",
       "       [nan,  4.,  3., nan, nan,  5., nan, nan, nan,  3.,  2., nan, nan,\n",
       "        nan,  1., nan,  4.,  3., nan,  5.],\n",
       "       [ 3., nan, nan, nan,  4.,  5.,  2.,  2., nan,  3., nan,  4., nan,\n",
       "        nan,  2.,  4., nan, nan, nan,  1.],\n",
       "       [nan,  5.,  1.,  4., nan, nan, nan,  3.,  1., nan,  1., nan, nan,\n",
       "         4., nan, nan,  2., nan, nan,  4.],\n",
       "       [nan,  3.,  1.,  1., nan,  3., nan,  4., nan,  1.,  1., nan,  4.,\n",
       "         4.,  2., nan, nan,  5.,  3., nan],\n",
       "       [ 1.,  1., nan,  1.,  1., nan, nan, nan, nan, nan, nan,  2., nan,\n",
       "        nan,  1., nan, nan, nan,  4., nan],\n",
       "       [nan,  2., nan, nan,  2.,  2., nan, nan,  2.,  3.,  2., nan, nan,\n",
       "         1.,  4.,  5.,  3., nan,  3.,  3.],\n",
       "       [ 3., nan, nan,  5.,  4., nan, nan,  4.,  5.,  3., nan,  1.,  2.,\n",
       "         1.,  1., nan, nan, nan,  4., nan],\n",
       "       [ 2., nan,  5., nan,  5.,  4., nan, nan, nan, nan, nan,  2.,  3.,\n",
       "        nan,  4., nan, nan, nan, nan,  3.],\n",
       "       [nan,  2.,  1., nan, nan, nan,  4., nan,  1., nan,  5.,  5.,  4.,\n",
       "         3.,  5., nan, nan,  5.,  5.,  4.],\n",
       "       [nan,  3.,  5., nan, nan, nan,  2.,  5.,  3., nan,  3.,  3., nan,\n",
       "         4., nan,  4., nan,  1., nan, nan],\n",
       "       [nan, nan,  2.,  5., nan, nan, nan, nan, nan, nan, nan, nan,  1.,\n",
       "        nan, nan, nan,  3.,  1.,  5.,  2.],\n",
       "       [nan,  5., nan,  5.,  3., nan, nan,  3.,  2.,  4.,  2., nan,  4.,\n",
       "         4.,  5.,  4.,  2., nan,  1.,  3.],\n",
       "       [ 4., nan,  1., nan, nan,  5.,  2., nan,  5., nan, nan,  4., nan,\n",
       "         2.,  3., nan, nan, nan, nan,  5.],\n",
       "       [nan, nan,  4., nan,  1.,  4., nan,  4.,  2.,  1., nan, nan, nan,\n",
       "        nan,  2.,  1.,  1., nan,  3.,  5.],\n",
       "       [ 2., nan, nan,  2.,  5., nan,  2., nan,  2.,  1., nan, nan,  5.,\n",
       "         2.,  2.,  3., nan, nan,  1.,  2.]])"
      ]
     },
     "execution_count": 29,
     "metadata": {},
     "output_type": "execute_result"
    }
   ],
   "source": [
    "# Execution Code    \n",
    "rating_data = pd.read_csv(RATING_DATA_PATH, index_col='user_id').values  # Call rating_data.\n",
    "rating_data"
   ]
  },
  {
   "cell_type": "code",
   "execution_count": 30,
   "metadata": {},
   "outputs": [
    {
     "data": {
      "text/plain": [
       "array([[nan, nan, nan,  4., nan,  5., nan, nan,  2., nan,  4., nan,  1.,\n",
       "        nan, nan, nan, nan,  5., nan, nan],\n",
       "       [nan, nan, nan,  5., nan, nan,  2.,  2.,  2., nan,  3.,  4.,  2.,\n",
       "         5.,  4., nan, nan, nan,  4.,  2.],\n",
       "       [nan,  5.,  1.,  4., nan, nan, nan,  3.,  1., nan,  1., nan, nan,\n",
       "         4., nan, nan,  2., nan, nan,  4.],\n",
       "       [nan,  3.,  1.,  1., nan,  3., nan,  4., nan,  1.,  1., nan,  4.,\n",
       "         4.,  2., nan, nan,  5.,  3., nan],\n",
       "       [ 1.,  1., nan,  1.,  1., nan, nan, nan, nan, nan, nan,  2., nan,\n",
       "        nan,  1., nan, nan, nan,  4., nan],\n",
       "       [ 3., nan, nan,  5.,  4., nan, nan,  4.,  5.,  3., nan,  1.,  2.,\n",
       "         1.,  1., nan, nan, nan,  4., nan],\n",
       "       [nan, nan,  2.,  5., nan, nan, nan, nan, nan, nan, nan, nan,  1.,\n",
       "        nan, nan, nan,  3.,  1.,  5.,  2.],\n",
       "       [nan,  5., nan,  5.,  3., nan, nan,  3.,  2.,  4.,  2., nan,  4.,\n",
       "         4.,  5.,  4.,  2., nan,  1.,  3.],\n",
       "       [ 2., nan, nan,  2.,  5., nan,  2., nan,  2.,  1., nan, nan,  5.,\n",
       "         2.,  2.,  3., nan, nan,  1.,  2.]])"
      ]
     },
     "execution_count": 30,
     "metadata": {},
     "output_type": "execute_result"
    }
   ],
   "source": [
    "filtered_data = filter_users_without_movie(rating_data, 3)  \n",
    "filtered_data"
   ]
  },
  {
   "cell_type": "code",
   "execution_count": 31,
   "metadata": {},
   "outputs": [
    {
     "data": {
      "text/plain": [
       "array([[2.  , 3.5 , 1.33, 4.  , 3.25, 5.  , 2.  , 3.2 , 2.  , 2.25, 4.  ,\n",
       "        2.33, 1.  , 3.33, 2.5 , 3.5 , 2.33, 5.  , 3.14, 2.6 ],\n",
       "       [2.  , 3.5 , 1.33, 5.  , 3.25, 4.  , 2.  , 2.  , 2.  , 2.25, 3.  ,\n",
       "        4.  , 2.  , 5.  , 4.  , 3.5 , 2.33, 3.67, 4.  , 2.  ],\n",
       "       [2.  , 5.  , 1.  , 4.  , 3.25, 4.  , 2.  , 3.  , 1.  , 2.25, 1.  ,\n",
       "        2.33, 2.71, 4.  , 2.5 , 3.5 , 2.  , 3.67, 3.14, 4.  ],\n",
       "       [2.  , 3.  , 1.  , 1.  , 3.25, 3.  , 2.  , 4.  , 2.33, 1.  , 1.  ,\n",
       "        2.33, 4.  , 4.  , 2.  , 3.5 , 2.33, 5.  , 3.  , 2.6 ],\n",
       "       [1.  , 1.  , 1.33, 1.  , 1.  , 4.  , 2.  , 3.2 , 2.33, 2.25, 2.2 ,\n",
       "        2.  , 2.71, 3.33, 1.  , 3.5 , 2.33, 3.67, 4.  , 2.6 ],\n",
       "       [3.  , 3.5 , 1.33, 5.  , 4.  , 4.  , 2.  , 4.  , 5.  , 3.  , 2.2 ,\n",
       "        1.  , 2.  , 1.  , 1.  , 3.5 , 2.33, 3.67, 4.  , 2.6 ],\n",
       "       [2.  , 3.5 , 2.  , 5.  , 3.25, 4.  , 2.  , 3.2 , 2.33, 2.25, 2.2 ,\n",
       "        2.33, 1.  , 3.33, 2.5 , 3.5 , 3.  , 1.  , 5.  , 2.  ],\n",
       "       [2.  , 5.  , 1.33, 5.  , 3.  , 4.  , 2.  , 3.  , 2.  , 4.  , 2.  ,\n",
       "        2.33, 4.  , 4.  , 5.  , 4.  , 2.  , 3.67, 1.  , 3.  ],\n",
       "       [2.  , 3.5 , 1.33, 2.  , 5.  , 4.  , 2.  , 3.2 , 2.  , 1.  , 2.2 ,\n",
       "        2.33, 5.  , 2.  , 2.  , 3.  , 2.33, 3.67, 1.  , 2.  ]])"
      ]
     },
     "execution_count": 31,
     "metadata": {},
     "output_type": "execute_result"
    }
   ],
   "source": [
    "filled_data = fill_nan_with_user_mean(filtered_data)  \n",
    "filled_data"
   ]
  },
  {
   "cell_type": "code",
   "execution_count": 32,
   "metadata": {},
   "outputs": [
    {
     "data": {
      "text/plain": [
       "array([[2.  , 3.5 , 1.33, 5.  , 3.25, 4.  , 2.  , 2.  , 2.  , 2.25, 3.  ,\n",
       "        4.  , 2.  , 5.  , 4.  , 3.5 , 2.33, 3.67, 4.  , 2.  ],\n",
       "       [2.  , 5.  , 1.  , 4.  , 3.25, 4.  , 2.  , 3.  , 1.  , 2.25, 1.  ,\n",
       "        2.33, 2.71, 4.  , 2.5 , 3.5 , 2.  , 3.67, 3.14, 4.  ],\n",
       "       [2.  , 3.5 , 2.  , 5.  , 3.25, 4.  , 2.  , 3.2 , 2.33, 2.25, 2.2 ,\n",
       "        2.33, 1.  , 3.33, 2.5 , 3.5 , 3.  , 1.  , 5.  , 2.  ],\n",
       "       [3.  , 3.5 , 1.33, 5.  , 4.  , 4.  , 2.  , 4.  , 5.  , 3.  , 2.2 ,\n",
       "        1.  , 2.  , 1.  , 1.  , 3.5 , 2.33, 3.67, 4.  , 2.6 ],\n",
       "       [1.  , 1.  , 1.33, 1.  , 1.  , 4.  , 2.  , 3.2 , 2.33, 2.25, 2.2 ,\n",
       "        2.  , 2.71, 3.33, 1.  , 3.5 , 2.33, 3.67, 4.  , 2.6 ]])"
      ]
     },
     "execution_count": 32,
     "metadata": {},
     "output_type": "execute_result"
    }
   ],
   "source": [
    "user_0_neighbors = get_k_neighbors(0, filled_data, 5)  \n",
    "user_0_neighbors"
   ]
  },
  {
   "cell_type": "code",
   "execution_count": 33,
   "metadata": {},
   "outputs": [],
   "source": [
    "# Find the predicted user rating.\n",
    "def predict_user_rating(rating_data, k, user_id, movie_id,):\n",
    "    # Exclude users who have not watched the 'movie_id'th movie from the data in advance.\n",
    "    filtered_data = filter_users_without_movie(rating_data, movie_id)\n",
    "\n",
    "    filled_data = fill_nan_with_user_mean(filtered_data)\n",
    "\n",
    "    neighbors = get_k_neighbors(user_id, filled_data, k)\n",
    "\n",
    "    return np.mean(neighbors[:, movie_id])"
   ]
  },
  {
   "cell_type": "code",
   "execution_count": 34,
   "metadata": {},
   "outputs": [
    {
     "data": {
      "text/plain": [
       "4.0"
      ]
     },
     "execution_count": 34,
     "metadata": {},
     "output_type": "execute_result"
    }
   ],
   "source": [
    "# Execution code\n",
    "\n",
    "rating_data = pd.read_csv(RATING_DATA_PATH, index_col='user_id').values\n",
    "# Use five neighbors and find the predicted rating of user0's movie 3.\n",
    "predict_user_rating(rating_data, 5, 0, 3)  "
   ]
  }
 ],
 "metadata": {
  "kernelspec": {
   "display_name": "Python 3",
   "language": "python",
   "name": "python3"
  },
  "language_info": {
   "codemirror_mode": {
    "name": "ipython",
    "version": 3
   },
   "file_extension": ".py",
   "mimetype": "text/x-python",
   "name": "python",
   "nbconvert_exporter": "python",
   "pygments_lexer": "ipython3",
   "version": "3.8.5"
  }
 },
 "nbformat": 4,
 "nbformat_minor": 4
}
